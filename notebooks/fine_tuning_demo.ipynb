{
  "cells": [
    {
      "cell_type": "markdown",
      "metadata": {},
      "source": [
        "# 🎓 Fine-Tuning Demo - RAG Analyst\n",
        "\n",
        "Ce notebook démontre le processus de fine-tuning d'un modèle GPT pour améliorer les performances sur des tâches spécifiques.\n",
        "\n",
        "**Note:** Ce notebook est principalement éducatif. Le fine-tuning réel nécessite un budget et sera exécuté via l'API OpenAI.\n"
      ]
    },
    {
      "cell_type": "markdown",
      "metadata": {},
      "source": [
        "## 1. Collecte des Données d'Entraînement\n",
        "\n",
        "Pour fine-tuner un modèle, nous avons besoin de paires (question, réponse) de haute qualité.\n"
      ]
    },
    {
      "cell_type": "code",
      "execution_count": null,
      "metadata": {},
      "outputs": [],
      "source": [
        "import sys\n",
        "sys.path.append('..')\n",
        "\n",
        "import json\n",
        "\n",
        "# Exemple de données d'entraînement\n",
        "training_examples = [\n",
        "    {\n",
        "        \"messages\": [\n",
        "            {\"role\": \"system\", \"content\": \"Tu es un assistant expert en analyse de rapports financiers.\"},\n",
        "            {\"role\": \"user\", \"content\": \"Quel est le chiffre d'affaires de l'entreprise ?\"},\n",
        "            {\"role\": \"assistant\", \"content\": \"Le chiffre d'affaires de l'entreprise est de 100 millions d'euros en 2023.\"}\n",
        "        ]\n",
        "    }\n",
        "]\n",
        "\n",
        "print(f\"Exemple de format d'entraînement:\")\n",
        "print(json.dumps(training_examples[0], indent=2, ensure_ascii=False))\n"
      ]
    },
    {
      "cell_type": "markdown",
      "metadata": {},
      "source": [
        "## 2. Estimation des Coûts\n",
        "\n",
        "Le fine-tuning a un coût. Calculons-le avant de lancer.\n"
      ]
    },
    {
      "cell_type": "code",
      "execution_count": null,
      "metadata": {},
      "outputs": [],
      "source": [
        "def estimate_cost(training_data, model=\"gpt-3.5-turbo\"):\n",
        "    # Estimer tokens (1 token ≈ 4 caractères)\n",
        "    total_chars = sum(len(json.dumps(ex)) for ex in training_data)\n",
        "    estimated_tokens = total_chars / 4\n",
        "    \n",
        "    # Coûts OpenAI 2024\n",
        "    cost_per_1k_tokens = 0.008  # GPT-3.5-turbo training\n",
        "    training_cost = (estimated_tokens / 1000) * cost_per_1k_tokens * 3  # 3 epochs\n",
        "    \n",
        "    print(f\"=== Estimation des Coûts ===\")\n",
        "    print(f\"Exemples : {len(training_data)}\")\n",
        "    print(f\"Tokens estimés : {estimated_tokens:,.0f}\")\n",
        "    print(f\"Coût training (3 epochs) : ${training_cost:.2f}\")\n",
        "    \n",
        "    return training_cost\n",
        "\n",
        "# Exemple avec 100 conversations\n",
        "mock_data = [training_examples[0]] * 100\n",
        "estimate_cost(mock_data)\n"
      ]
    }
  ],
  "metadata": {
    "language_info": {
      "name": "python"
    }
  },
  "nbformat": 4,
  "nbformat_minor": 2
}
